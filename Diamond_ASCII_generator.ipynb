{
  "nbformat": 4,
  "nbformat_minor": 0,
  "metadata": {
    "colab": {
      "name": "Diamond ASCII generator.ipynb",
      "provenance": [],
      "collapsed_sections": [],
      "authorship_tag": "ABX9TyMuq7y2urtHO5bmN3R8HPkW",
      "include_colab_link": true
    },
    "kernelspec": {
      "name": "python3",
      "display_name": "Python 3"
    },
    "language_info": {
      "name": "python"
    }
  },
  "cells": [
    {
      "cell_type": "markdown",
      "metadata": {
        "id": "view-in-github",
        "colab_type": "text"
      },
      "source": [
        "<a href=\"https://colab.research.google.com/github/Chunkie0/Diamond-ASCII-Art-Generator/blob/main/Diamond_ASCII_generator.ipynb\" target=\"_parent\"><img src=\"https://colab.research.google.com/assets/colab-badge.svg\" alt=\"Open In Colab\"/></a>"
      ]
    },
    {
      "cell_type": "code",
      "metadata": {
        "colab": {
          "base_uri": "https://localhost:8080/"
        },
        "id": "5joewQjbznQ6",
        "outputId": "99ee8b73-af7f-4a41-f88c-6ae2490be7ff"
      },
      "source": [
        "print(\"Diamond ASCII art generator\")\n",
        "user = int(input(\"Input size(no lower then 3 and has to be odd number): \"))\n",
        "\n",
        "symbol = input(\"Choose a symbol, what you want your diamond to look like: \")\n",
        "\n",
        "while user < 3:\n",
        "  print(\"Size can't be lower then 3\")\n",
        "  user = int(input(\"Input again: \"))\n",
        "\n",
        "if user % 2 == 0:\n",
        "  print(\"+1 to your even number was inevitable\")\n",
        "  user += 1\n",
        "\n",
        "for i in range(1, user, 2):\n",
        "    print(\" \"*(user//2-i//2), symbol*i)\n",
        "\n",
        "for i in range(user, 0, -2):\n",
        "    print(\" \"*(user//2-i//2), symbol*i)\n",
        "\n",
        "\n"
      ],
      "execution_count": 68,
      "outputs": [
        {
          "output_type": "stream",
          "text": [
            "Diamond ASCII art generator\n",
            "Input size(no lower then 3 and has to be odd number): 4\n",
            "Choose a symbol, what you want your diamond to look like: ^\n",
            "+1 to your even number was inevitable\n",
            "   ^\n",
            "  ^^^\n",
            " ^^^^^\n",
            "  ^^^\n",
            "   ^\n"
          ],
          "name": "stdout"
        }
      ]
    }
  ]
}